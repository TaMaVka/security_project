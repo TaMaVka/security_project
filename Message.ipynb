{
 "cells": [
  {
   "cell_type": "markdown",
   "id": "51b9e08e-33e2-47e9-8dac-a1fd0d9e514d",
   "metadata": {},
   "source": [
    "## Структура электронного письма"
   ]
  },
  {
   "cell_type": "markdown",
   "id": "e0aff5e4-f7b4-42b0-aab0-6c25e3d993f0",
   "metadata": {},
   "source": [
    "<b> 1) Заголовок (Header): </b> \n",
    "\n",
    "Информация об отправителе и получателе:\n",
    "\n",
    "* From: Адрес электронной почты отправителя.\n",
    "* To: Адрес(а) электронной почты получателя(ей).\n",
    "* Cc: (Carbon Copy) Адреса для скрытой копии.\n",
    "* Bcc: (Blind Carbon Copy) Адреса для скрытой копии, невидимые для других получателей.\n",
    "\n",
    "Информация о письме:\n",
    "* Subject: Тема письма.\n",
    "* Date: Дата и время отправки.\n",
    "* Message-ID: Уникальный идентификатор письма.\n",
    "* Reply-To: Адрес для ответа, отличный от адреса отправителя.\n",
    "\n",
    "Техническая информация:\n",
    "\n",
    "* MIME-Version: Версия стандарта MIME (Multipurpose Internet Mail Extensions), используемого для форматирования письма.\n",
    "* Content-Type: Тип содержимого письма (текст, HTML, изображения и т. д.).\n",
    "* Content-Transfer-Encoding: Метод кодирования содержимого письма (например, base64).\n",
    "\n",
    "<b> 2) Тело письма (Body):</b> Разделяется пустой строкой от заголовка.\n",
    "\n",
    "Может содержать:\n",
    "* Текст: Обычный текст или текст, отформатированный с помощью HTML.\n",
    "* Вложения: Файлы, прикрепленные к письму."
   ]
  },
  {
   "cell_type": "markdown",
   "id": "8947ac09-5c05-48da-83ad-66e161711b56",
   "metadata": {},
   "source": [
    "### Что можно почитать:"
   ]
  },
  {
   "cell_type": "markdown",
   "id": "aab1ebc5-b2aa-4f34-a9a8-bb45409892cb",
   "metadata": {},
   "source": [
    "* Анатомия «электронки»: разбираем структуру письма в формате eml/MIME https://habr.com/ru/companies/T1Holding/articles/843008/\n",
    "* Почтовый стандарт \"MIME\" (RFC1521) на русском языке https://www.opennet.ru/docs/RUS/mime_rfc/\n",
    "* RFC 5322 (Internet Message Format): Это основной стандарт, определяющий формат электронных писем. Документ технический, но даёт исчерпывающее понимание заголовков, адресации и общей структуры: https://datatracker.ietf.org/doc/html/rfc5322\n",
    "* RFC 2045, 2046, 2047, 2048, 2049 (MIME): Серия стандартов, описывающих MIME (Multipurpose Internet Mail Extensions), который определяет, как встраивать в письма нетекстовый контент, например, изображения, аудио и вложения. Ссылка на RFC 2045: https://datatracker.ietf.org/doc/html/rfc2045\n",
    "* Email Mining: A Review (<i> в начале статьи есть описание структуры письма; что идет дальше мне неведомо </i>) http://alumni.soe.ucsc.edu/~rchennag/papers/EmailMining2.pdf"
   ]
  },
  {
   "cell_type": "markdown",
   "id": "c366db71-7c5d-488e-a7a7-da27085facd7",
   "metadata": {},
   "source": [
    "## Определение IP-адреса"
   ]
  },
  {
   "cell_type": "markdown",
   "id": "e67ce1d8-6f59-4063-85de-931311de6a7b",
   "metadata": {},
   "source": [
    "### Что можно почитать:"
   ]
  },
  {
   "cell_type": "markdown",
   "id": "92182912-191d-431e-8618-b06587291687",
   "metadata": {},
   "source": [
    "* Как определить IP адрес по E-mail: https://2ip.ru/article/emailtoip/\n",
    "* Инструмент определения IP адреса: https://2ip.ru/know-email-ip/\n",
    "* Как отследить IP-адрес электронной почты и узнать, кто отправил вам письмо? https://ctemplar.com/how-to-trace-email-ip-address-and-learn-who-sent-you-the-email/"
   ]
  }
 ],
 "metadata": {
  "kernelspec": {
   "display_name": "Python 3 (ipykernel)",
   "language": "python",
   "name": "python3"
  },
  "language_info": {
   "codemirror_mode": {
    "name": "ipython",
    "version": 3
   },
   "file_extension": ".py",
   "mimetype": "text/x-python",
   "name": "python",
   "nbconvert_exporter": "python",
   "pygments_lexer": "ipython3",
   "version": "3.12.4"
  }
 },
 "nbformat": 4,
 "nbformat_minor": 5
}
